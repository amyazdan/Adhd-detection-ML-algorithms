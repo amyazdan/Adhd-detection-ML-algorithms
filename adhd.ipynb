{
 "cells": [
  {
   "cell_type": "code",
   "execution_count": 346,
   "metadata": {},
   "outputs": [],
   "source": [
    "from sklearn.ensemble import RandomForestClassifier, GradientBoostingClassifier, AdaBoostClassifier\n",
    "from xgboost import XGBClassifier\n",
    "from sklearn.svm import SVC\n",
    "import pandas as pd\n",
    "from sklearn.metrics import accuracy_score, f1_score, recall_score, precision_score\n",
    "from sklearn.model_selection import train_test_split\n",
    "import matplotlib.pyplot as plt\n",
    "import numpy as np\n",
    "import time\n",
    "import sklearn\n",
    "from imblearn.under_sampling import RandomUnderSampler\n"
   ]
  },
  {
   "cell_type": "code",
   "execution_count": 347,
   "metadata": {},
   "outputs": [],
   "source": [
    "class Dataset():\n",
    "    def __init__(self):\n",
    "        \n",
    "        # whole dataset\n",
    "        df = pd.read_csv('dataset_2.csv')\n",
    "        self.y = df['K2Q31A']\n",
    "        self.X = df.drop(columns='K2Q31A')\n",
    "\n",
    "        # chi square\n",
    "        self.chi = pd.read_csv('chi.csv')\n",
    "        self.chi = self.chi.loc[self.chi['Dr Sheikhy'] == 'Y']['feature name']\n",
    "        \n",
    "        # fisher's score\n",
    "        self.fisher = pd.read_csv('fisher.csv')\n",
    "        self.fisher = self.fisher.loc[self.fisher['Dr Sheikhy'] == 'Y']['Feature Name']\n",
    "\n",
    "        # information gain\n",
    "        self.inf = pd.read_csv('inf-gain.csv')\n",
    "        self.inf = self.inf.loc[self.inf['Dr Sheikhy'] == 'Y']['Feature Name']\n",
    "\n",
    "        # corelation\n",
    "        self.cor = pd.read_csv('cor.csv')\n",
    "        self.cor = self.cor.iloc[:,[0, 14]].where(self.cor.iloc[:,14] == 'Y').dropna().iloc[:, 0]\n",
    "\n",
    "    def return_dataset(self) -> pd.DataFrame:\n",
    "        return self.X, self.y\n",
    "\n",
    "    def return_chi(self) -> pd.Series:\n",
    "        return self.chi\n",
    "    \n",
    "    def return_fisher(self) -> pd.Series:\n",
    "        return self.fisher\n",
    "    \n",
    "    def return_inf(self) -> pd.Series:\n",
    "        return self.inf\n",
    "    \n",
    "    def return_cor(self) -> pd.Series:\n",
    "        return self.cor\n",
    "    \n",
    "    # intersections of 2 sets\n",
    "    def return_intersection_chi_fisher(self) -> list:\n",
    "        return list(set(self.chi.tolist()) & set(self.fisher.tolist()))\n",
    "\n",
    "    def return_intersection_chi_inf(self) -> list:\n",
    "        return list(set(self.chi.tolist()) & set(self.inf.tolist()))\n",
    "\n",
    "    def return_intersection_chi_cor(self) -> list:\n",
    "        return list(set(self.chi.tolist()) & set(self.cor.tolist()))\n",
    "    \n",
    "    def return_intersection_fisher_inf(self) -> list:\n",
    "        return list(set(self.fisher.tolist()) & set(self.inf.tolist()))\n",
    "\n",
    "    def return_intersection_fisher_cor(self) -> list:\n",
    "        return list(set(self.fisher.tolist()) & set(self.cor.tolist()))\n",
    "\n",
    "    def return_intersection_inf_cor(self) -> list:\n",
    "        return list(set(self.inf.tolist()) & set(self.cor.tolist()))\n",
    "\n",
    "    # intersections of 3 sets\n",
    "    def return_intersection_chi_fisher_inf(self) -> list:\n",
    "        return list(set(self.chi.tolist()) & set(self.fisher.tolist()) & set(self.inf.tolist()))\n",
    "    \n",
    "    def return_intersection_chi_fisher_cor(self) -> list:\n",
    "        return list(set(self.chi.tolist()) & set(self.fisher.tolist()) & set(self.cor.tolist()))\n",
    "    \n",
    "    def return_intersection_chi_inf_cor(self) -> list:\n",
    "        return list(set(self.chi.tolist()) & set(self.inf.tolist()) & set(self.cor.tolist()))\n",
    "    \n",
    "    def return_intersection_fisher_inf_cor(self) -> list:\n",
    "        return list(set(self.fisher.tolist()) & set(self.inf.tolist()) & set(self.cor.tolist()))\n",
    "\n",
    "    \n",
    "    "
   ]
  },
  {
   "cell_type": "code",
   "execution_count": 348,
   "metadata": {},
   "outputs": [],
   "source": [
    "class Model():\n",
    "    def __init__(self, no_iters: int, selection: list, x: pd.DataFrame, y: pd.DataFrame):\n",
    "\n",
    "        self.no_iters = no_iters\n",
    "\n",
    "        self.x = x.loc[:, x.columns.isin(selection)]\n",
    "        self.y = y\n",
    "\n",
    "        # [name, acc, f1_score, recall, precision, time]\n",
    "        self.xgboost_result = []\n",
    "        self.adaboost_result = []\n",
    "        self.gradient_boost_result = []\n",
    "        self.random_forest_result = []\n",
    "        self.svm_result = []\n",
    "\n",
    "        # classifiers\n",
    "        self.xgboost_classifier = XGBClassifier(max_depth=5,\n",
    "        learning_rate=0.01,\n",
    "        n_estimators=100,\n",
    "        objective='binary:logistic',\n",
    "        random_state=42)\n",
    "\n",
    "        self.adaboost_classifier = AdaBoostClassifier()\n",
    "\n",
    "        self.svm_classifier = SVC()\n",
    "\n",
    "        self.random_forest_classifier = RandomForestClassifier()\n",
    "\n",
    "        self.gradient_boost_classifier = GradientBoostingClassifier()\n",
    "\n",
    "        # undersampling\n",
    "        self.undersample = RandomUnderSampler(sampling_strategy='majority')\n",
    "    \n",
    "    def _append_items(self, target: list, name, acc, f1_score, recall, precision, time, no_iters):\n",
    "        target.append(name)\n",
    "        target.append(acc)\n",
    "        target.append(f1_score)\n",
    "        target.append(recall)\n",
    "        target.append(precision)\n",
    "        target.append(time)\n",
    "        target.append(no_iters)\n",
    "        return target\n",
    "        \n",
    "    def _train(self, classifier, random_state=0):\n",
    "\n",
    "        X, y = self.undersample.fit_resample(self.x, self.y)\n",
    "        X_train, X_test, y_train, y_test = train_test_split(X, y, test_size=0.2, random_state=random_state)\n",
    "        \n",
    "        y_train = -(y_train - 2)\n",
    "        y_test = -(y_test - 2)\n",
    "\n",
    "        start_time = time.time()\n",
    "\n",
    "        classifier.fit(X_train, y_train)\n",
    "        \n",
    "        y_pred = classifier.predict(X_test)\n",
    "        \n",
    "        end_time = time.time()\n",
    "        \n",
    "        time0 = end_time - start_time\n",
    "        accuracy = accuracy_score(y_test, y_pred) * 100\n",
    "        f1 = f1_score(y_test, y_pred)\n",
    "        recall = recall_score(y_test, y_pred)\n",
    "        precision = precision_score(y_test, y_pred)\n",
    "\n",
    "\n",
    "\n",
    "        return accuracy, f1, recall, precision, time0\n",
    "    # [name, acc, f1_score, recall, precision, time]\n",
    "\n",
    "    \n",
    "    def display_result(self, result):\n",
    "        print(f'algorithm name: {result[0]}\\n'\n",
    "            f'number of iterations: {str(self.no_iters)}\\n'\n",
    "            f'average accuracy: {(result[1]).mean():.4f}' + '\\n'\n",
    "            f'max accuracy: {(result[1]).max():.4f}' + '\\n'\n",
    "            f'std accuracy: {(result[1]).std():.4f}' + '\\n'\n",
    "            f'average f1 score: {(result[2]).mean():.4f}' + '\\n'\n",
    "            f'max f1 score: {(result[2]).max():.4f}' + '\\n'\n",
    "            f'std f1 score: {(result[2]).std():.4f}' + '\\n'\n",
    "            f'average recall: {(result[3]).mean():.4f}' + '\\n'\n",
    "            f'max recall: {(result[3]).max():.4f}' + '\\n'\n",
    "            f'std recall: {(result[3]).std():.4f}' + '\\n'\n",
    "            f'average time: {result[4].mean():.4f}')\n",
    "    \n",
    "    \n",
    "    def fit_algorithm(self, classifier):\n",
    "        \n",
    "        scores = []\n",
    "        times = []\n",
    "        f1_scores = []\n",
    "        recall_scores = []\n",
    "        precision_scores = []\n",
    "\n",
    "        for _ in range(self.no_iters):\n",
    "\n",
    "            accuracy, f1, recall, precision, time0 = self._train(classifier)\n",
    "            \n",
    "            scores.append(accuracy)\n",
    "            f1_scores.append(f1)\n",
    "            recall_scores.append(recall)            \n",
    "            precision_scores.append(precision)\n",
    "            times.append(time0)\n",
    "   \n",
    "        target = []\n",
    "\n",
    "\n",
    "        name = classifier\n",
    "        if  name == self.xgboost_classifier:\n",
    "            name = XGBClassifier.__name__\n",
    "\n",
    "            \n",
    "        target = self._append_items(target=target, name=name, acc=np.array(scores),\n",
    "                            f1_score=np.array(f1_scores), recall=np.array(recall_scores),\n",
    "                            precision=np.array(precision_scores), time=np.array(times), no_iters=self.no_iters)\n",
    "        self.display_result(target)\n",
    "\n"
   ]
  },
  {
   "cell_type": "code",
   "execution_count": 349,
   "metadata": {},
   "outputs": [],
   "source": [
    "no_iterarion = 5"
   ]
  },
  {
   "cell_type": "code",
   "execution_count": 350,
   "metadata": {},
   "outputs": [],
   "source": [
    "dataset  = Dataset()\n",
    "X, y = dataset.return_dataset()\n",
    "\n",
    "model = Model(no_iters=no_iterarion, selection=dataset.return_intersection_chi_inf(), x=X, y=y)"
   ]
  },
  {
   "cell_type": "code",
   "execution_count": 351,
   "metadata": {},
   "outputs": [],
   "source": [
    "classifiers =   [\n",
    "                model.xgboost_classifier,\n",
    "                model.adaboost_classifier,\n",
    "                model.gradient_boost_classifier,\n",
    "                model.random_forest_classifier,\n",
    "                model.svm_classifier\n",
    "                ]"
   ]
  },
  {
   "cell_type": "code",
   "execution_count": 352,
   "metadata": {},
   "outputs": [
    {
     "name": "stdout",
     "output_type": "stream",
     "text": [
      "algorithm name: XGBClassifier\n",
      "number of iterations: 5\n",
      "average accuracy: 86.4206\n",
      "max accuracy: 86.5847\n",
      "std accuracy: 0.1939\n",
      "average f1 score: 0.8608\n",
      "max f1 score: 0.8620\n",
      "std f1 score: 0.0016\n",
      "average recall: 0.8470\n",
      "max recall: 0.8522\n",
      "std recall: 0.0029\n",
      "average time: 0.8750\n"
     ]
    }
   ],
   "source": [
    "model.fit_algorithm(classifier=classifiers[0])\n",
    "\n"
   ]
  },
  {
   "cell_type": "code",
   "execution_count": 353,
   "metadata": {},
   "outputs": [
    {
     "name": "stdout",
     "output_type": "stream",
     "text": [
      "algorithm name: AdaBoostClassifier()\n",
      "number of iterations: 5\n",
      "average accuracy: 85.5185\n",
      "max accuracy: 86.2917\n",
      "std accuracy: 0.3946\n",
      "average f1 score: 0.8478\n",
      "max f1 score: 0.8545\n",
      "std f1 score: 0.0035\n",
      "average recall: 0.8135\n",
      "max recall: 0.8168\n",
      "std recall: 0.0023\n",
      "average time: 0.8851\n"
     ]
    }
   ],
   "source": [
    "model.fit_algorithm(classifier=classifiers[1])\n"
   ]
  },
  {
   "cell_type": "code",
   "execution_count": 354,
   "metadata": {},
   "outputs": [
    {
     "name": "stdout",
     "output_type": "stream",
     "text": [
      "algorithm name: RandomForestClassifier()\n",
      "number of iterations: 5\n",
      "average accuracy: 85.2958\n",
      "max accuracy: 85.7645\n",
      "std accuracy: 0.6439\n",
      "average f1 score: 0.8512\n",
      "max f1 score: 0.8556\n",
      "std f1 score: 0.0057\n",
      "average recall: 0.8485\n",
      "max recall: 0.8534\n",
      "std recall: 0.0049\n",
      "average time: 0.8541\n"
     ]
    }
   ],
   "source": [
    "model.fit_algorithm(classifier=RandomForestClassifier())\n"
   ]
  },
  {
   "cell_type": "code",
   "execution_count": 355,
   "metadata": {},
   "outputs": [
    {
     "name": "stdout",
     "output_type": "stream",
     "text": [
      "algorithm name: RandomForestClassifier()\n",
      "number of iterations: 5\n",
      "average accuracy: 85.2255\n",
      "max accuracy: 85.6473\n",
      "std accuracy: 0.4865\n",
      "average f1 score: 0.8506\n",
      "max f1 score: 0.8546\n",
      "std f1 score: 0.0042\n",
      "average recall: 0.8485\n",
      "max recall: 0.8511\n",
      "std recall: 0.0024\n",
      "average time: 0.8528\n"
     ]
    }
   ],
   "source": [
    "model.fit_algorithm(classifier=classifiers[3])\n"
   ]
  },
  {
   "cell_type": "code",
   "execution_count": 356,
   "metadata": {},
   "outputs": [
    {
     "name": "stdout",
     "output_type": "stream",
     "text": [
      "algorithm name: SVC()\n",
      "number of iterations: 5\n",
      "average accuracy: 85.0029\n",
      "max accuracy: 85.7059\n",
      "std accuracy: 0.6981\n",
      "average f1 score: 0.8465\n",
      "max f1 score: 0.8527\n",
      "std f1 score: 0.0059\n",
      "average recall: 0.8338\n",
      "max recall: 0.8357\n",
      "std recall: 0.0014\n",
      "average time: 0.8596\n"
     ]
    }
   ],
   "source": [
    "model.fit_algorithm(classifier=classifiers[4])\n"
   ]
  }
 ],
 "metadata": {
  "kernelspec": {
   "display_name": "Python 3",
   "language": "python",
   "name": "python3"
  },
  "language_info": {
   "codemirror_mode": {
    "name": "ipython",
    "version": 3
   },
   "file_extension": ".py",
   "mimetype": "text/x-python",
   "name": "python",
   "nbconvert_exporter": "python",
   "pygments_lexer": "ipython3",
   "version": "3.10.6"
  },
  "orig_nbformat": 4
 },
 "nbformat": 4,
 "nbformat_minor": 2
}
