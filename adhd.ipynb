{
 "cells": [
  {
   "cell_type": "code",
   "execution_count": 1,
   "metadata": {},
   "outputs": [],
   "source": [
    "\n",
    "from sklearn.ensemble import RandomForestClassifier, GradientBoostingClassifier, AdaBoostClassifier\n",
    "from xgboost import XGBClassifier\n",
    "from sklearn.svm import SVC\n",
    "import pandas as pd\n",
    "from sklearn.metrics import accuracy_score, f1_score, recall_score, precision_score\n",
    "from sklearn.model_selection import train_test_split\n",
    "import matplotlib.pyplot as plt\n",
    "import numpy as np\n",
    "import time\n",
    "import sklearn\n",
    "from imblearn.under_sampling import RandomUnderSampler\n"
   ]
  },
  {
   "cell_type": "code",
   "execution_count": 2,
   "metadata": {},
   "outputs": [],
   "source": [
    "class Dataset():\n",
    "    def __init__(self):\n",
    "        \n",
    "        # whole dataset\n",
    "        df = pd.read_csv('dataset_2.csv')\n",
    "        self.y = df['K2Q31A']\n",
    "        self.X = df.drop(columns='K2Q31A')\n",
    "\n",
    "        # chi square\n",
    "        self.chi = pd.read_csv('chi.csv')\n",
    "        self.chi = self.chi.loc[self.chi['Dr Sheikhy'] == 'Y']['feature name']\n",
    "        \n",
    "        # fisher's score\n",
    "        self.fisher = pd.read_csv('fisher.csv')\n",
    "        self.fisher = self.fisher.loc[self.fisher['Dr Sheikhy'] == 'Y']['Feature Name']\n",
    "\n",
    "        # information gain\n",
    "        self.inf = pd.read_csv('inf-gain.csv')\n",
    "        self.inf = self.inf.loc[self.inf['Dr Sheikhy'] == 'Y']['Feature Name']\n",
    "\n",
    "        # corelation\n",
    "        self.cor = pd.read_csv('cor.csv')\n",
    "        self.cor = self.cor.iloc[:,[0, 14]].where(self.cor.iloc[:,14] == 'Y').dropna().iloc[:, 0]\n",
    "\n",
    "    def return_dataset(self)->pd.DataFrame:\n",
    "        return self.X, self.y\n",
    "\n",
    "    def return_chi(self)->pd.Series:\n",
    "        return self.chi\n",
    "    \n",
    "    def return_fisher(self)->pd.Series:\n",
    "        return self.fisher\n",
    "    \n",
    "    def return_inf(self)->pd.Series:\n",
    "        return self.inf\n",
    "    \n",
    "    def return_cor(self)->pd.Series:\n",
    "        return self.cor\n",
    "    \n",
    "    def return_intersection_chi_fisher(self) -> list:\n",
    "        return list(set(self.chi.tolist()) & set(self.fisher.tolist()))\n",
    "\n",
    "    def return_intersection_chi_inf(self) -> list:\n",
    "        return list(set(self.chi.tolist()) & set(self.inf.tolist()))\n",
    "\n",
    "    def return_intersection_chi_cor(self) -> list:\n",
    "        return list(set(self.chi.tolist()) & set(self.cor.tolist()))\n",
    "    \n",
    "    def return_intersection_fisher_inf(self) -> list:\n",
    "        return list(set(self.fisher.tolist()) & set(self.inf.tolist()))\n",
    "\n",
    "    def return_intersection_fisher_cor(self) -> list:\n",
    "        return list(set(self.fisher.tolist()) & set(self.cor.tolist()))\n",
    "\n",
    "    def return_intersection_inf_cor(self) -> list:\n",
    "        return list(set(self.inf.tolist()) & set(self.cor.tolist()))\n",
    "\n",
    "    \n",
    "    "
   ]
  },
  {
   "cell_type": "code",
   "execution_count": null,
   "metadata": {},
   "outputs": [],
   "source": [
    "class Model():\n",
    "    def __init__(self):\n",
    "        pass\n",
    "\n",
    "    def fit_xgboost(self):\n",
    "        pass\n",
    "\n",
    "    def fit_adaboost(self):\n",
    "        pass\n",
    "\n",
    "    def fit_gradient_boost(self):\n",
    "        pass\n",
    "\n",
    "    def fit_random_forest(self):\n",
    "        pass\n",
    "    \n",
    "    def fit_svm(self):\n",
    "        pass"
   ]
  },
  {
   "cell_type": "code",
   "execution_count": 48,
   "metadata": {},
   "outputs": [
    {
     "data": {
      "text/plain": [
       "['K4Q23',\n",
       " 'K2Q33A',\n",
       " 'MEMORYCOND',\n",
       " 'K4Q22_R',\n",
       " 'K2Q60A',\n",
       " 'K2Q34A',\n",
       " 'TOTFEMALE',\n",
       " 'ACE3',\n",
       " 'K2Q36A',\n",
       " 'K2Q30A',\n",
       " 'K2Q37A',\n",
       " 'SC_K2Q22',\n",
       " 'K2Q35A',\n",
       " 'ACE8',\n",
       " 'K7Q70_R',\n",
       " 'ACE11',\n",
       " 'K2Q40A']"
      ]
     },
     "execution_count": 48,
     "metadata": {},
     "output_type": "execute_result"
    }
   ],
   "source": [
    "dataset = Dataset()\n",
    "X, y = dataset.return_dataset()\n",
    "X.shape, y.shape\n",
    "b = dataset.return_cor()\n",
    "b\n",
    "a = dataset.return_intersection_fisher_cor()\n",
    "a"
   ]
  },
  {
   "cell_type": "code",
   "execution_count": 10,
   "metadata": {},
   "outputs": [
    {
     "data": {
      "text/plain": [
       "(8532, 24)"
      ]
     },
     "execution_count": 10,
     "metadata": {},
     "output_type": "execute_result"
    }
   ],
   "source": [
    "\n",
    "# selected_cols_chi_fisher = perfect.loc[:, df.columns.isin(chi_fisher)]\n",
    "# selected_cols_chi_fisher.shape\n",
    "\n",
    "# selected_cols_inf_fisher = perfect.loc[:, df.columns.isin(inf_fisher)]\n",
    "# selected_cols_inf_fisher.shape\n",
    "\n",
    "# selected_cols_inf_chi = perfect.loc[:, df.columns.isin(inf_chi)]\n",
    "# selected_cols_inf_chi.shape\n",
    "\n",
    "# selected_cols_chi_fisher_inf = perfect.loc[:, df.columns.isin(chi_fisher_inf)]\n",
    "# selected_cols_chi_fisher_inf.shape\n",
    "\n",
    "# selected_cols_chi_fisher_inf_intersect = perfect.loc[:, df.columns.isin(chi_fisher_inf_intersect)]\n",
    "# selected_cols_chi_fisher_inf.shape\n",
    "\n",
    "# selected_cols_all = perfect.loc[:, df.columns.isin(all)]\n",
    "# selected_cols_chi_fisher_inf.shape\n",
    "\n",
    "# selected_cols_inf_chi_inter = perfect.loc[:, df.columns.isin(inf_chi_intersect)]\n",
    "# selected_cols_chi_fisher_inf.shape\n",
    "\n",
    "# target_perfect.shape\n",
    "\n",
    "# selected_cols_inf_chi_inter.shape"
   ]
  },
  {
   "attachments": {},
   "cell_type": "markdown",
   "metadata": {},
   "source": [
    "### under sampling"
   ]
  },
  {
   "cell_type": "code",
   "execution_count": 11,
   "metadata": {},
   "outputs": [
    {
     "data": {
      "text/plain": [
       "(27449,)"
      ]
     },
     "execution_count": 11,
     "metadata": {},
     "output_type": "execute_result"
    }
   ],
   "source": [
    "\n",
    "# selected_cols_inf_chi = df.loc[:, df.columns.isin(inf_chi_intersect)]\n",
    "# selected_cols_inf_chi.shape\n",
    "# y.shape"
   ]
  },
  {
   "attachments": {},
   "cell_type": "markdown",
   "metadata": {},
   "source": [
    "# XGBOOST"
   ]
  },
  {
   "cell_type": "code",
   "execution_count": 66,
   "metadata": {},
   "outputs": [],
   "source": [
    "\n",
    "no_iter = 150\n",
    "xgboost_score_no_iter = list()\n",
    "\n",
    "for i in range(no_iter):\n",
    "\n",
    "    undersample = RandomUnderSampler(sampling_strategy='majority')\n",
    "\n",
    "    X_shuffled, y_shuffled = undersample.fit_resample(selected_cols_inf_chi, y)\n",
    "    X_train, X_test, y_train, y_test = train_test_split(X_shuffled, y_shuffled, test_size=0.2, random_state=0)\n",
    "    \n",
    "    y_train = -(y_train - 2)\n",
    "    y_test = -(y_test - 2)\n",
    "\n",
    "    classifiers = [\n",
    "        XGBClassifier(max_depth=5,\n",
    "            learning_rate=0.01,\n",
    "            n_estimators=100,\n",
    "            objective='binary:logistic',\n",
    "            random_state=42)\n",
    "    ]\n",
    "\n",
    "    # scores = []\n",
    "    # times = []\n",
    "    # iterate over the classifiers and fit them to the training data\n",
    "    for clf in classifiers:\n",
    "        # start_time = time.time()\n",
    "        clf.fit(X_train, y_train)\n",
    "        y_pred = clf.predict(X_test)\n",
    "        accuracy = accuracy_score(y_test, y_pred) * 100\n",
    "        end_time = time.time()\n",
    "        # time0 = end_time - start_time\n",
    "        # times.append(time0)\n",
    "        \n",
    "        # print(type(clf).__name__, \"Accuracy:\", accuracy, 'time: ', time0)\n",
    "        # score = accuracy_score(y_test, y_pred)\n",
    "        score = accuracy_score(y_test, y_pred)\n",
    "        xgboost_score_no_iter.append(score)"
   ]
  },
  {
   "cell_type": "code",
   "execution_count": 67,
   "metadata": {},
   "outputs": [
    {
     "data": {
      "text/plain": [
       "[0.8635891427455576,\n",
       " 0.8799062683069713,\n",
       " 0.849443468072642,\n",
       " 0.005739626035014794]"
      ]
     },
     "execution_count": 67,
     "metadata": {},
     "output_type": "execute_result"
    }
   ],
   "source": [
    "xgboost_score_no_iter_np = np.array(xgboost_score_no_iter)\n",
    "xgboost_score_no_iter_mean = xgboost_score_no_iter_np.mean()\n",
    "\n",
    "xgboost_result = [xgboost_score_no_iter_np.mean(), xgboost_score_no_iter_np.max(), \\\n",
    "                  xgboost_score_no_iter_np.min(), xgboost_score_no_iter_np.std()]\n",
    "xgboost_result"
   ]
  },
  {
   "cell_type": "code",
   "execution_count": 35,
   "metadata": {},
   "outputs": [
    {
     "data": {
      "text/plain": [
       "(array([ 4.,  0., 12., 20., 30., 33., 24., 18.,  5.,  4.]),\n",
       " array([0.84475688, 0.84797891, 0.85120094, 0.85442296, 0.85764499,\n",
       "        0.86086702, 0.86408905, 0.86731107, 0.8705331 , 0.87375513,\n",
       "        0.87697715]),\n",
       " <BarContainer object of 10 artists>)"
      ]
     },
     "execution_count": 35,
     "metadata": {},
     "output_type": "execute_result"
    },
    {
     "data": {
      "image/png": "[encoded data removed]",
      "text/plain": [
       "<Figure size 640x480 with 1 Axes>"
      ]
     },
     "metadata": {},
     "output_type": "display_data"
    }
   ],
   "source": [
    "plt.hist(xgboost_score_no_iter)"
   ]
  },
  {
   "attachments": {},
   "cell_type": "markdown",
   "metadata": {},
   "source": [
    "# ADABOOST"
   ]
  },
  {
   "cell_type": "code",
   "execution_count": 45,
   "metadata": {},
   "outputs": [],
   "source": [
    "from sklearn.linear_model import LogisticRegression\n",
    "from sklearn.tree import DecisionTreeClassifier\n",
    "from sklearn.ensemble import RandomForestClassifier, GradientBoostingClassifier, AdaBoostClassifier\n",
    "from sklearn.naive_bayes import GaussianNB\n",
    "from sklearn.svm import SVC\n",
    "from sklearn.neighbors import KNeighborsClassifier\n",
    "from sklearn.discriminant_analysis import LinearDiscriminantAnalysis, QuadraticDiscriminantAnalysis\n",
    "import pandas as pd\n",
    "from sklearn.metrics import accuracy_score\n",
    "from sklearn.model_selection import train_test_split\n",
    "import matplotlib.pyplot as plt\n",
    "import numpy as np\n",
    "import time\n",
    "from xgboost import XGBClassifier\n",
    "\n",
    "no_iter = 150\n",
    "adaBoost_score_no_iter = list()\n",
    "\n",
    "for i in range(no_iter):\n",
    "    # idx = np.random.permutation(len(perfect))\n",
    "    # # X_shuffled, y_shuffled = perfect.iloc[idx], target_perfect.iloc[idx]\n",
    "    # X_shuffled, y_shuffled = perfect.loc[:, df.columns.isin(selected_cols_inf_chi_inter)]\\\n",
    "    # .iloc[idx], target_perfect.iloc[idx]\n",
    "    X_shuffled, y_shuffled = undersample.fit_resample(selected_cols_inf_chi, y)\n",
    "    X_train, X_test, y_train, y_test = train_test_split(X_shuffled, y_shuffled, test_size=0.2, random_state=0)\n",
    "    # X_train, X_test, y_train, y_test = train_test_split(X_shuffled, y_shuffled, test_size=0.2, random_state=0)\n",
    "    # X_train, X_test, y_train, y_test = train_test_split(data, target, test_size=0.2, random_state=42)\n",
    "    y_train = -(y_train - 2)\n",
    "    y_test = -(y_test - 2)\n",
    "\n",
    "    classifiers = [\n",
    "        # RandomForestClassifier(),\n",
    "        # SVC(),\n",
    "        AdaBoostClassifier()\n",
    "        # GradientBoostingClassifier(),\n",
    "    #     XGBClassifier(max_depth=5,\n",
    "    #         learning_rate=0.1,\n",
    "    #         n_estimators=100,\n",
    "    #         objective='binary:logistic',\n",
    "    #         random_state=42)\n",
    "    ]\n",
    "\n",
    "    # scores = []\n",
    "    # times = []\n",
    "    # iterate over the classifiers and fit them to the training data\n",
    "    for clf in classifiers:\n",
    "        # start_time = time.time()\n",
    "        clf.fit(X_train, y_train)\n",
    "        y_pred = clf.predict(X_test)\n",
    "        accuracy = accuracy_score(y_test, y_pred) * 100\n",
    "        end_time = time.time()\n",
    "        # time0 = end_time - start_time\n",
    "        # times.append(time0)\n",
    "        \n",
    "        # print(type(clf).__name__, \"Accuracy:\", accuracy, 'time: ', time0)\n",
    "        # score = accuracy_score(y_test, y_pred)\n",
    "        score = accuracy_score(y_test, y_pred)\n",
    "        adaBoost_score_no_iter.append(score)"
   ]
  },
  {
   "cell_type": "code",
   "execution_count": null,
   "metadata": {},
   "outputs": [],
   "source": [
    "# from sklearn.metrics import accuracy_score, f1_score, recall_score, precision_score"
   ]
  },
  {
   "cell_type": "code",
   "execution_count": 46,
   "metadata": {},
   "outputs": [
    {
     "data": {
      "text/plain": [
       "[0.8565241163835189, 0.872290568248389, 0.836555360281195, 0.00557812550034245]"
      ]
     },
     "execution_count": 46,
     "metadata": {},
     "output_type": "execute_result"
    }
   ],
   "source": [
    "adaBoost_score_no_iter_np = np.array(adaBoost_score_no_iter)\n",
    "adaBoost_score_no_iter_mean = adaBoost_score_no_iter_np.mean()\n",
    "\n",
    "adaBoost_result = [adaBoost_score_no_iter_np.mean(), adaBoost_score_no_iter_np.max(), \\\n",
    "                  adaBoost_score_no_iter_np.min(), adaBoost_score_no_iter_np.std()]\n",
    "adaBoost_result"
   ]
  },
  {
   "attachments": {},
   "cell_type": "markdown",
   "metadata": {},
   "source": [
    "# GRADIENT BOOSTING"
   ]
  },
  {
   "cell_type": "code",
   "execution_count": 49,
   "metadata": {},
   "outputs": [],
   "source": [
    "from sklearn.linear_model import LogisticRegression\n",
    "from sklearn.tree import DecisionTreeClassifier\n",
    "from sklearn.ensemble import RandomForestClassifier, GradientBoostingClassifier, AdaBoostClassifier\n",
    "from sklearn.naive_bayes import GaussianNB\n",
    "from sklearn.svm import SVC\n",
    "from sklearn.neighbors import KNeighborsClassifier\n",
    "from sklearn.discriminant_analysis import LinearDiscriminantAnalysis, QuadraticDiscriminantAnalysis\n",
    "import pandas as pd\n",
    "from sklearn.metrics import accuracy_score\n",
    "from sklearn.model_selection import train_test_split\n",
    "import matplotlib.pyplot as plt\n",
    "import numpy as np\n",
    "import time\n",
    "from xgboost import XGBClassifier\n",
    "\n",
    "no_iter = 150\n",
    "GradientBoostingClassifier_score_no_iter = list()\n",
    "\n",
    "for i in range(no_iter):\n",
    "    # idx = np.random.permutation(len(perfect))\n",
    "    # # X_shuffled, y_shuffled = perfect.iloc[idx], target_perfect.iloc[idx]\n",
    "    # X_shuffled, y_shuffled = perfect.loc[:, df.columns.isin(selected_cols_inf_chi_inter)]\\\n",
    "    # .iloc[idx], target_perfect.iloc[idx]\n",
    "\n",
    "    # X_train, X_test, y_train, y_test = train_test_split(X_shuffled, y_shuffled, test_size=0.2, random_state=0)\n",
    "    X_shuffled, y_shuffled = undersample.fit_resample(selected_cols_inf_chi, y)\n",
    "    X_train, X_test, y_train, y_test = train_test_split(X_shuffled, y_shuffled, test_size=0.2, random_state=0)\n",
    "    # X_train, X_test, y_train, y_test = train_test_split(data, target, test_size=0.2, random_state=42)\n",
    "    y_train = -(y_train - 2)\n",
    "    y_test = -(y_test - 2)\n",
    "\n",
    "    classifiers = [\n",
    "        # RandomForestClassifier(),\n",
    "        # SVC(),\n",
    "        # AdaBoostClassifier()\n",
    "        GradientBoostingClassifier()\n",
    "    #     XGBClassifier(max_depth=5,\n",
    "    #         learning_rate=0.1,\n",
    "    #         n_estimators=100,\n",
    "    #         objective='binary:logistic',\n",
    "    #         random_state=42)\n",
    "    ]\n",
    "\n",
    "    # scores = []\n",
    "    # times = []\n",
    "    # iterate over the classifiers and fit them to the training data\n",
    "    for clf in classifiers:\n",
    "        # start_time = time.time()\n",
    "        clf.fit(X_train, y_train)\n",
    "        y_pred = clf.predict(X_test)\n",
    "        accuracy = accuracy_score(y_test, y_pred) * 100\n",
    "        end_time = time.time()\n",
    "        # time0 = end_time - start_time\n",
    "        # times.append(time0)\n",
    "        \n",
    "        # print(type(clf).__name__, \"Accuracy:\", accuracy, 'time: ', time0)\n",
    "        # score = accuracy_score(y_test, y_pred)\n",
    "        score = accuracy_score(y_test, y_pred)\n",
    "        GradientBoostingClassifier_score_no_iter.append(score)"
   ]
  },
  {
   "cell_type": "code",
   "execution_count": 50,
   "metadata": {},
   "outputs": [
    {
     "data": {
      "text/plain": [
       "[0.8636360085920717,\n",
       " 0.8763913298183948,\n",
       " 0.8453427065026362,\n",
       " 0.005744311882834405]"
      ]
     },
     "execution_count": 50,
     "metadata": {},
     "output_type": "execute_result"
    }
   ],
   "source": [
    "GradientBoostingClassifier_score_no_iter_np = np.array(GradientBoostingClassifier_score_no_iter)\n",
    "GradientBoostingClassifier_score_no_iter_mean = GradientBoostingClassifier_score_no_iter_np.mean()\n",
    "\n",
    "GradientBoostingClassifier_result = [GradientBoostingClassifier_score_no_iter_np.mean(), GradientBoostingClassifier_score_no_iter_np.max(), \\\n",
    "                  GradientBoostingClassifier_score_no_iter_np.min(), GradientBoostingClassifier_score_no_iter_np.std()]\n",
    "GradientBoostingClassifier_result"
   ]
  },
  {
   "attachments": {},
   "cell_type": "markdown",
   "metadata": {},
   "source": [
    "# SVM"
   ]
  },
  {
   "cell_type": "code",
   "execution_count": 53,
   "metadata": {},
   "outputs": [],
   "source": [
    "\n",
    "from sklearn.ensemble import RandomForestClassifier, GradientBoostingClassifier, AdaBoostClassifier\n",
    "from xgboost import XGBClassifier\n",
    "from sklearn.svm import SVC\n",
    "\n",
    "from sklearn.metrics import accuracy_score\n",
    "from sklearn.model_selection import train_test_split\n",
    "import numpy as np\n",
    "import time\n",
    "\n",
    "\n",
    "no_iter = 150\n",
    "SVM_score_no_iter = list()\n",
    "\n",
    "for i in range(no_iter):\n",
    "    undersample = RandomUnderSampler(sampling_strategy='majority')\n",
    "    # idx = np.random.permutation(len(perfect))\n",
    "    # # X_shuffled, y_shuffled = perfect.iloc[idx], target_perfect.iloc[idx]\n",
    "    # X_shuffled, y_shuffled = perfect.loc[:, df.columns.isin(selected_cols_inf_chi_inter)]\\\n",
    "    # .iloc[idx], target_perfect.iloc[idx]\n",
    "\n",
    "    # X_train, X_test, y_train, y_test = train_test_split(X_shuffled, y_shuffled, test_size=0.2, random_state=0)\n",
    "    # X_train, X_test, y_train, y_test = train_test_split(data, target, test_size=0.2, random_state=42)\n",
    "    X_shuffled, y_shuffled = undersample.fit_resample(selected_cols_inf_chi, y)\n",
    "    X_train, X_test, y_train, y_test = train_test_split(X_shuffled, y_shuffled, test_size=0.2, random_state=0)\n",
    "    y_train = -(y_train - 2)\n",
    "    y_test = -(y_test - 2)\n",
    "\n",
    "    classifiers = [\n",
    "        # RandomForestClassifier()\n",
    "        SVC()\n",
    "        # AdaBoostClassifier()\n",
    "        # GradientBoostingClassifier()\n",
    "    #     XGBClassifier(max_depth=5,\n",
    "    #         learning_rate=0.1,\n",
    "    #         n_estimators=100,\n",
    "    #         objective='binary:logistic',\n",
    "    #         random_state=42)\n",
    "    ]\n",
    "\n",
    "    # scores = []\n",
    "    # times = []\n",
    "    # iterate over the classifiers and fit them to the training data\n",
    "    for clf in classifiers:\n",
    "        # start_time = time.time()\n",
    "        clf.fit(X_train, y_train)\n",
    "        y_pred = clf.predict(X_test)\n",
    "        accuracy = accuracy_score(y_test, y_pred) * 100\n",
    "        end_time = time.time()\n",
    "        # time0 = end_time - start_time\n",
    "        # times.append(time0)\n",
    "        \n",
    "        # print(type(clf).__name__, \"Accuracy:\", accuracy, 'time: ', time0)\n",
    "        # score = accuracy_score(y_test, y_pred)\n",
    "        score = accuracy_score(y_test, y_pred)\n",
    "        SVM_score_no_iter.append(score)"
   ]
  },
  {
   "cell_type": "code",
   "execution_count": 54,
   "metadata": {},
   "outputs": [
    {
     "data": {
      "text/plain": [
       "[0.8492520991993752,\n",
       " 0.8611599297012302,\n",
       " 0.8330404217926186,\n",
       " 0.005687211454896837]"
      ]
     },
     "execution_count": 54,
     "metadata": {},
     "output_type": "execute_result"
    }
   ],
   "source": [
    "SVM_score_no_iter_np = np.array(SVM_score_no_iter)\n",
    "SVM_score_no_iter_mean = SVM_score_no_iter_np.mean()\n",
    "\n",
    "SVM_result = [SVM_score_no_iter_np.mean(), SVM_score_no_iter_np.max(), \\\n",
    "                  SVM_score_no_iter_np.min(), SVM_score_no_iter_np.std()]\n",
    "SVM_result"
   ]
  },
  {
   "attachments": {},
   "cell_type": "markdown",
   "metadata": {},
   "source": [
    "# RANDOM FOREST"
   ]
  },
  {
   "cell_type": "code",
   "execution_count": 47,
   "metadata": {},
   "outputs": [],
   "source": [
    "\n",
    "from sklearn.ensemble import RandomForestClassifier, GradientBoostingClassifier, AdaBoostClassifier\n",
    "from xgboost import XGBClassifier\n",
    "from sklearn.svm import SVC\n",
    "\n",
    "from sklearn.metrics import accuracy_score\n",
    "from sklearn.model_selection import train_test_split\n",
    "import numpy as np\n",
    "import time\n",
    "\n",
    "\n",
    "no_iter = 150\n",
    "RandomForestClassifier_score_no_iter = list()\n",
    "\n",
    "for i in range(no_iter):\n",
    "    # idx = np.random.RandomState(seed=42).permutation(len(perfect))\n",
    "    # # X_shuffled, y_shuffled = perfect.iloc[idx], target_perfect.iloc[idx]\n",
    "    # X_shuffled, y_shuffled = perfect.loc[:, df.columns.isin(selected_cols_inf_chi_inter)]\\\n",
    "    # .iloc[idx], target_perfect.iloc[idx]\n",
    "    X_shuffled, y_shuffled = undersample.fit_resample(selected_cols_inf_chi, y)\n",
    "    X_train, X_test, y_train, y_test = train_test_split(X_shuffled, y_shuffled, test_size=0.2, random_state=0)\n",
    "    X_train, X_test, y_train, y_test = train_test_split(X_shuffled, y_shuffled, test_size=0.2, random_state=0)\n",
    "    # X_train, X_test, y_train, y_test = train_test_split(data, target, test_size=0.2, random_state=42)\n",
    "    y_train = -(y_train - 2)\n",
    "    y_test = -(y_test - 2)\n",
    "\n",
    "    classifiers = [\n",
    "        RandomForestClassifier()\n",
    "        # SVC()\n",
    "        # AdaBoostClassifier()\n",
    "        # GradientBoostingClassifier()\n",
    "    #     XGBClassifier(max_depth=5,\n",
    "    #         learning_rate=0.1,\n",
    "    #         n_estimators=100,\n",
    "    #         objective='binary:logistic',\n",
    "    #         random_state=42)\n",
    "    ]\n",
    "\n",
    "    # scores = []\n",
    "    # times = []\n",
    "    # iterate over the classifiers and fit them to the training data\n",
    "    for clf in classifiers:\n",
    "        # start_time = time.time()\n",
    "        clf.fit(X_train, y_train)\n",
    "        y_pred = clf.predict(X_test)\n",
    "        accuracy = accuracy_score(y_test, y_pred) * 100\n",
    "        end_time = time.time()\n",
    "        # time0 = end_time - start_time\n",
    "        # times.append(time0)\n",
    "        \n",
    "        # print(type(clf).__name__, \"Accuracy:\", accuracy, 'time: ', time0)\n",
    "        # score = accuracy_score(y_test, y_pred)\n",
    "        score = accuracy_score(y_test, y_pred)\n",
    "        RandomForestClassifier_score_no_iter.append(score)"
   ]
  },
  {
   "cell_type": "code",
   "execution_count": 48,
   "metadata": {},
   "outputs": [
    {
     "data": {
      "text/plain": [
       "[0.8528412419449326,\n",
       " 0.8640890451083773,\n",
       " 0.8394844756883422,\n",
       " 0.005496756464318646]"
      ]
     },
     "execution_count": 48,
     "metadata": {},
     "output_type": "execute_result"
    }
   ],
   "source": [
    "RandomForestClassifier_score_no_iter_np = np.array(RandomForestClassifier_score_no_iter)\n",
    "RandomForestClassifier_score_no_iter_mean = RandomForestClassifier_score_no_iter_np.mean()\n",
    "\n",
    "RandomForestClassifier_result = [RandomForestClassifier_score_no_iter_np.mean(), RandomForestClassifier_score_no_iter_np.max(), \\\n",
    "                  RandomForestClassifier_score_no_iter_np.min(), RandomForestClassifier_score_no_iter_np.std()]\n",
    "RandomForestClassifier_result"
   ]
  },
  {
   "cell_type": "code",
   "execution_count": 18,
   "metadata": {},
   "outputs": [],
   "source": [
    "\n"
   ]
  }
 ],
 "metadata": {
  "kernelspec": {
   "display_name": "Python 3",
   "language": "python",
   "name": "python3"
  },
  "language_info": {
   "codemirror_mode": {
    "name": "ipython",
    "version": 3
   },
   "file_extension": ".py",
   "mimetype": "text/x-python",
   "name": "python",
   "nbconvert_exporter": "python",
   "pygments_lexer": "ipython3",
   "version": "3.10.6"
  },
  "orig_nbformat": 4
 },
 "nbformat": 4,
 "nbformat_minor": 2
}
